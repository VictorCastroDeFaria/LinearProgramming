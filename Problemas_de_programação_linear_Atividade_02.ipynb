{
  "nbformat": 4,
  "nbformat_minor": 0,
  "metadata": {
    "colab": {
      "name": "Problemas de programação linear Atividade 02.ipynb",
      "provenance": [],
      "collapsed_sections": []
    },
    "kernelspec": {
      "name": "python3",
      "display_name": "Python 3"
    },
    "language_info": {
      "name": "python"
    }
  },
  "cells": [
    {
      "cell_type": "code",
      "execution_count": 1,
      "metadata": {
        "colab": {
          "base_uri": "https://localhost:8080/"
        },
        "id": "fovRIIEG5uVq",
        "outputId": "0456723b-67a4-43ae-bbc6-0668fb1b0c68"
      },
      "outputs": [
        {
          "output_type": "stream",
          "name": "stdout",
          "text": [
            "Looking in indexes: https://pypi.org/simple, https://us-python.pkg.dev/colab-wheels/public/simple/\n",
            "Collecting pulp\n",
            "  Downloading PuLP-2.6.0-py3-none-any.whl (14.2 MB)\n",
            "\u001b[K     |████████████████████████████████| 14.2 MB 4.2 MB/s \n",
            "\u001b[?25hInstalling collected packages: pulp\n",
            "Successfully installed pulp-2.6.0\n"
          ]
        }
      ],
      "source": [
        "%pip install pulp\n",
        "\n",
        "import pulp\n",
        "from pulp import *"
      ]
    },
    {
      "cell_type": "code",
      "source": [
        "# PROBLEMA 01 - PROBLEMA DA MISTURA DE RAÇÕES\n",
        "\n",
        "# Variáveis de decisão\n",
        "milho = pulp.LpVariable('Milho', lowBound = 0, cat = 'Linear')\n",
        "farelo = pulp.LpVariable('Farelo', lowBound = 0, cat = 'Linear')\n",
        "#lowBound: Limite inferior das variáveis\n",
        "\n",
        "# Inicialização\n",
        "problem1 = LpProblem(\"Problema da mistura para ração\", LpMinimize)\n",
        "\n",
        "# Função objetivo\n",
        "problem1 += 0.26*milho + 0.32*farelo\n",
        "\n",
        "# Restrição de mínimo de proteínas\n",
        "problem1 += 0.07*milho + 0.21*farelo >= 0.34\n",
        "# Restrição de mínimo de carboidratos\n",
        "problem1 += 0.82*milho + 0.79*farelo >= 2.64\n",
        "\n",
        "problem1.solve()\n",
        "\n",
        "print(\"Status:\", LpStatus[problem1.status])\n",
        "\n",
        "for v in problem1.variables():\n",
        "    print(v.name, \"=\", v.varValue)\n",
        "\n",
        "print(\"objective = %s\" % value(problem1.objective))"
      ],
      "metadata": {
        "colab": {
          "base_uri": "https://localhost:8080/"
        },
        "id": "JoFgCkReqCbl",
        "outputId": "19a6f4bb-fa25-4978-a4ac-12efb45ddd12"
      },
      "execution_count": 2,
      "outputs": [
        {
          "output_type": "stream",
          "name": "stdout",
          "text": [
            "Status: Optimal\n",
            "Farelo = 0.80410607\n",
            "Milho = 2.4448246\n",
            "objective = 0.8929683384\n"
          ]
        },
        {
          "output_type": "stream",
          "name": "stderr",
          "text": [
            "/usr/local/lib/python3.7/dist-packages/pulp/pulp.py:1352: UserWarning: Spaces are not permitted in the name. Converted to '_'\n",
            "  warnings.warn(\"Spaces are not permitted in the name. Converted to '_'\")\n"
          ]
        }
      ]
    },
    {
      "cell_type": "code",
      "source": [
        "# PROBLEMA 02 - PROBLEMA DA CARTEIRA DE INVESTIMENTOS FUTUROS\n",
        "\n",
        "a = pulp.LpVariable.dicts('a_funds', range(5), lowBound = 0, cat = 'Linear')\n",
        "b = pulp.LpVariable.dicts('b_funds', range(4), lowBound = 0, cat = 'Linear')\n",
        "c = pulp.LpVariable.dicts('c_funds', range(1), lowBound = 0, cat = 'Linear')\n",
        "\n",
        "problem2 = LpProblem(\"Problema do investimento\", LpMaximize)\n",
        "\n",
        "# Função objetivo\n",
        "problem2 += 1.17*b[3] + 1.08*a[4] + 1.27*c[0]\n",
        "\n",
        "# Restrição de quarto ano\n",
        "problem2 += a[4] == 1.08*a[3] + 1.17*b[2]\n",
        "# Restrição de terceiro ano\n",
        "problem2 += a[3] + b[3] == 1.08*a[2] + 1.17*b[1]\n",
        "# Restrição de segundo ano\n",
        "problem2 += a[2] + b[2] + c[0] == + 1.08*a[1] + 1.17*b[0]\n",
        "# Restrição de primeiro ano\n",
        "problem2 += a[1] + b[1] == 1.08*a[0]\n",
        "# Restrição de ano zero\n",
        "problem2 += a[0] + b[0] == 22000\n",
        "\n",
        "problem2.solve()\n",
        "\n",
        "print(\"Status:\", LpStatus[problem2.status])\n",
        "\n",
        "for v in problem2.variables():\n",
        "    print(v.name, \"=\", v.varValue)\n",
        "print(\"objective = %s\" % value(problem2.objective))"
      ],
      "metadata": {
        "colab": {
          "base_uri": "https://localhost:8080/"
        },
        "id": "3w2eqe2ZAq6s",
        "outputId": "492933ba-6035-4c6f-deff-cc7ef78ff335"
      },
      "execution_count": 3,
      "outputs": [
        {
          "output_type": "stream",
          "name": "stdout",
          "text": [
            "Status: Optimal\n",
            "a_funds_0 = 0.0\n",
            "a_funds_1 = 0.0\n",
            "a_funds_2 = 0.0\n",
            "a_funds_3 = 0.0\n",
            "a_funds_4 = 0.0\n",
            "b_funds_0 = 22000.0\n",
            "b_funds_1 = 0.0\n",
            "b_funds_2 = 0.0\n",
            "b_funds_3 = 0.0\n",
            "c_funds_0 = 25740.0\n",
            "objective = 32689.8\n"
          ]
        }
      ]
    },
    {
      "cell_type": "code",
      "source": [
        "# PROBLEMA 03 - PROBLEMA DA MISTURA DE LIGAS\n",
        "\n",
        "liga_1 = pulp.LpVariable('Liga 1', lowBound = 0, cat = 'Linear')\n",
        "liga_2 = pulp.LpVariable('Liga 2', lowBound = 0, cat = 'Linear')\n",
        "\n",
        "problem3 = LpProblem(\"Problema de mistura de ligas\", LpMinimize)\n",
        "\n",
        "# Função Objetivo\n",
        "problem3 += 190*liga_1 + 200*liga_2\n",
        "\n",
        "# Restrição de limite inferior de níquel\n",
        "problem3 += 3*liga_1 + 4*liga_2 >= 3.2\n",
        "# Restrição de limite inferior de silício\n",
        "problem3 += 2*liga_1 + 2.5*liga_2 >= 1.8 \n",
        "# Restrição de limite inferior de carbono\n",
        "problem3 += 1*liga_1 + 1.5*liga_2 >= 0.9\n",
        "\n",
        "# Restrição de limite inferior de níquel\n",
        "problem3 += 3*liga_1 + 4*liga_2 <= 3.5\n",
        "# Restrição de limite inferior de silício\n",
        "problem3 += 2*liga_1 + 2.5*liga_2 <= 2.5\n",
        "# Restrição de limite inferior de carbono\n",
        "problem3 += 1*liga_1 + 1.5*liga_2 <= 1.2\n",
        "\n",
        "# Restrição de razão em massa\n",
        "problem3 += liga_1 + liga_2 == 1 \n",
        "\n",
        "problem3.solve()\n",
        "\n",
        "print(\"Status:\", LpStatus[problem3.status])\n",
        "\n",
        "for v in problem3.variables():\n",
        "    print(v.name, \"=\", v.varValue)\n",
        "print(\"objective = %s\" % value(problem3.objective))\n"
      ],
      "metadata": {
        "colab": {
          "base_uri": "https://localhost:8080/"
        },
        "id": "uMVKEfQ-4bZS",
        "outputId": "2b715c67-d793-45ea-befc-c6036d90e064"
      },
      "execution_count": 4,
      "outputs": [
        {
          "output_type": "stream",
          "name": "stdout",
          "text": [
            "Status: Optimal\n",
            "Liga_1 = 0.8\n",
            "Liga_2 = 0.2\n",
            "objective = 192.0\n"
          ]
        }
      ]
    },
    {
      "cell_type": "code",
      "source": [
        "# PROBLEMA 04 - PROBLEMA DA FABRICAÇÃO DE TORTAS\n",
        "\n",
        "Morango = pulp.LpVariable('Morango', lowBound = 0, cat = 'Integer')\n",
        "Chocolate = pulp.LpVariable('Chocolate', lowBound = 0, cat = 'Integer')\n",
        "\n",
        "problem4 = LpProblem(\"Problema da venda de tortas\", LpMaximize)\n",
        "\n",
        "# Função objetivo\n",
        "problem4 += 4*Morango + 2*Chocolate\n",
        "\n",
        "# Restrição de quarto ano\n",
        "problem4 += 4*Morango + 1*Chocolate <= 30\n",
        "# Restrição de terceiro ano\n",
        "problem4 += 1/3*Morango + 2/3*Chocolate <= 8\n",
        "\n",
        "problem4.solve()\n",
        "\n",
        "print(\"Status:\", LpStatus[problem4.status])\n",
        "\n",
        "for v in problem4.variables():\n",
        "    print(v.name, \"=\", v.varValue)\n",
        "print(\"objective = %s\" % value(problem4.objective))"
      ],
      "metadata": {
        "colab": {
          "base_uri": "https://localhost:8080/"
        },
        "id": "nB1YYzcXx_77",
        "outputId": "583c011e-c917-4a7a-e9cb-3b1ca9d25ee8"
      },
      "execution_count": 5,
      "outputs": [
        {
          "output_type": "stream",
          "name": "stdout",
          "text": [
            "Status: Optimal\n",
            "Chocolate = 9.0\n",
            "Morango = 5.0\n",
            "objective = 38.0\n"
          ]
        }
      ]
    },
    {
      "cell_type": "code",
      "source": [
        "# PROBLEMA 05 - PROBLEMA DA REDUÇÃO DE EMISSÕES\n",
        "\n",
        "medidas = pulp.LpVariable.dicts('medidas', range(3), lowBound = 0, upBound = 1, cat = 'Linear')\n",
        "\n",
        "problem5 = LpProblem(\"Problema da redução de emissões\", LpMinimize)\n",
        "\n",
        "# Função objetivo - custo de implantação\n",
        "problem5 += (10 + 8)*medidas[0] + (7 + 6)*medidas[1] + (11 + 9)*medidas[2]\n",
        "\n",
        "# Restrição de redução mínima de partículas\n",
        "problem5 += (12 + 9)*medidas[0] + (25 + 20)*medidas[1] + (17 + 13)*medidas[2] >= 60\n",
        "# Restrição de redução mínima de SO3\n",
        "problem5 += (35 + 42)*medidas[0] + (18 + 31)*medidas[1] + (56 + 49)*medidas[2] >= 150\n",
        "# Restrição de redução mínima de hidrocarbonetos\n",
        "problem5 += (37 + 53)*medidas[0] + (28 + 34)*medidas[1] + (29 + 20)*medidas[2] >= 125\n",
        "\n",
        "problem5.solve()\n",
        "\n",
        "print(\"Status:\", LpStatus[problem5.status])\n",
        "\n",
        "for v in problem5.variables():\n",
        "    print(v.name, \"=\", v.varValue)\n",
        "print(\"objective = %s\" % value(problem5.objective))"
      ],
      "metadata": {
        "id": "GJFulDfE4Zc6",
        "colab": {
          "base_uri": "https://localhost:8080/"
        },
        "outputId": "32e9595a-4296-4ade-e3ef-575765ef8738"
      },
      "execution_count": 6,
      "outputs": [
        {
          "output_type": "stream",
          "name": "stdout",
          "text": [
            "Status: Optimal\n",
            "medidas_0 = 0.60292844\n",
            "medidas_1 = 0.5724447\n",
            "medidas_2 = 0.71928305\n",
            "objective = 32.68015402\n"
          ]
        }
      ]
    },
    {
      "cell_type": "code",
      "source": [
        "# PROBLEMA 6 - PROBLEMAS GERAIS DE PROGRAMAÇÃO LINEAR\n",
        "# PROBLEMA 6 A\n",
        "\n",
        "x = pulp.LpVariable.dicts('x', range(2), lowBound = 0, cat = 'Linear')\n",
        "x_size = len(x)\n",
        "\n",
        "problem6a = LpProblem(\"Problemas de programação linear\", LpMaximize)\n",
        "\n",
        "objectives_and_restrictions = [(1,1,1),(1,1,-1)]\n",
        "\n",
        "# Função objetivo\n",
        "problem6a += lpSum([x[i]*objectives_and_restrictions[i][0] for i in range(x_size)])\n",
        "# Restrição de quarto ano\n",
        "problem6a += lpSum([x[i]*objectives_and_restrictions[i][1] for i in range(x_size)]) <= 4\n",
        "# Restrição de terceiro ano\n",
        "problem6a += lpSum([x[i]*objectives_and_restrictions[i][2] for i in range(x_size)]) >= 5\n",
        "\n",
        "problem6a.solve()\n",
        "\n",
        "print(\"Status:\", LpStatus[problem6a.status])\n",
        "\n",
        "for v in problem6a.variables():\n",
        "    print(v.name, \"=\", v.varValue)\n",
        "print(\"objective = %s\" % value(problem6a.objective))"
      ],
      "metadata": {
        "colab": {
          "base_uri": "https://localhost:8080/"
        },
        "id": "-UMD4LFMKBFG",
        "outputId": "e58b1951-102d-4948-a698-1ce6eee52c46"
      },
      "execution_count": 7,
      "outputs": [
        {
          "output_type": "stream",
          "name": "stdout",
          "text": [
            "Status: Infeasible\n",
            "x_0 = 5.0\n",
            "x_1 = 0.0\n",
            "objective = 5.0\n"
          ]
        }
      ]
    },
    {
      "cell_type": "code",
      "source": [
        "# PROBLEMA 6 B\n",
        "\n",
        "problem6b = LpProblem(\"Problemas de programação linear\", LpMaximize)\n",
        "\n",
        "objectives_and_restrictions = [(4,8,5),(1,2,2)]\n",
        "\n",
        "# Função objetivo\n",
        "problem6b += lpSum([x[i]*objectives_and_restrictions[i][0] for i in range(x_size)])\n",
        "# Restrição de quarto ano\n",
        "problem6b += lpSum([x[i]*objectives_and_restrictions[i][1] for i in range(x_size)]) <= 16\n",
        "# Restrição de terceiro ano\n",
        "problem6b += lpSum([x[i]*objectives_and_restrictions[i][2] for i in range(x_size)]) <= 12\n",
        "\n",
        "problem6b.solve()\n",
        "\n",
        "print(\"Status:\", LpStatus[problem6b.status])\n",
        "\n",
        "for v in problem6b.variables():\n",
        "    print(v.name, \"=\", v.varValue)\n",
        "print(\"objective = %s\" % value(problem6b.objective))"
      ],
      "metadata": {
        "colab": {
          "base_uri": "https://localhost:8080/"
        },
        "outputId": "83060576-5e33-4af8-e1c5-1ab103b261f2",
        "id": "06XIiockPgHa"
      },
      "execution_count": 8,
      "outputs": [
        {
          "output_type": "stream",
          "name": "stdout",
          "text": [
            "Status: Optimal\n",
            "x_0 = 2.0\n",
            "x_1 = 0.0\n",
            "objective = 8.0\n"
          ]
        }
      ]
    },
    {
      "cell_type": "code",
      "source": [
        "# PROBLEMA 6 C\n",
        "\n",
        "problem6c = LpProblem(\"Problemas de programação linear\", LpMaximize)\n",
        "\n",
        "objectives_and_restrictions = [(-1,1,1),(3,-1,2)]\n",
        "\n",
        "# Função objetivo\n",
        "problem6c += lpSum([x[i]*objectives_and_restrictions[i][0] for i in range(x_size)])\n",
        "# Restrição de quarto ano\n",
        "problem6c += lpSum([x[i]*objectives_and_restrictions[i][1] for i in range(x_size)]) <= 4\n",
        "# Restrição de terceiro ano\n",
        "problem6c += lpSum([x[i]*objectives_and_restrictions[i][2] for i in range(x_size)]) >= 4\n",
        "\n",
        "problem6c.solve()\n",
        "\n",
        "print(\"Status:\", LpStatus[problem6c.status])\n",
        "\n",
        "for v in problem6c.variables():\n",
        "    print(v.name, \"=\", v.varValue)\n",
        "print(\"objective = %s\" % value(problem6c.objective))"
      ],
      "metadata": {
        "colab": {
          "base_uri": "https://localhost:8080/"
        },
        "outputId": "b657ce2c-4abd-4463-d8c8-bf092c37b587",
        "id": "5l1DE3IYP5rD"
      },
      "execution_count": 9,
      "outputs": [
        {
          "output_type": "stream",
          "name": "stdout",
          "text": [
            "Status: Unbounded\n",
            "x_0 = 0.0\n",
            "x_1 = 0.0\n",
            "objective = 0.0\n"
          ]
        }
      ]
    },
    {
      "cell_type": "code",
      "source": [
        "# PROBLEMA 6 D\n",
        "\n",
        "problem6d = LpProblem(\"Problemas de programação linear\", LpMaximize)\n",
        "\n",
        "objectives_and_restrictions = [(3,2,1),(1,1,3)]\n",
        "\n",
        "# Função objetivo\n",
        "problem6d += lpSum([x[i]*objectives_and_restrictions[i][0] for i in range(x_size)])\n",
        "# Restrição de quarto ano\n",
        "problem6d += lpSum([x[i]*objectives_and_restrictions[i][1] for i in range(x_size)]) <= 6\n",
        "# Restrição de terceiro ano\n",
        "problem6d += lpSum([x[i]*objectives_and_restrictions[i][2] for i in range(x_size)]) <= 9\n",
        "\n",
        "problem6d.solve()\n",
        "\n",
        "print(\"Status:\", LpStatus[problem6d.status])\n",
        "\n",
        "for v in problem6d.variables():\n",
        "    print(v.name, \"=\", v.varValue)\n",
        "print(\"objective = %s\" % value(problem6d.objective))"
      ],
      "metadata": {
        "colab": {
          "base_uri": "https://localhost:8080/"
        },
        "id": "uS1e3GPpM-jR",
        "outputId": "87602b8e-c675-49b7-f8fc-c39e2117995f"
      },
      "execution_count": 10,
      "outputs": [
        {
          "output_type": "stream",
          "name": "stdout",
          "text": [
            "Status: Optimal\n",
            "x_0 = 3.0\n",
            "x_1 = 0.0\n",
            "objective = 9.0\n"
          ]
        }
      ]
    }
  ]
}