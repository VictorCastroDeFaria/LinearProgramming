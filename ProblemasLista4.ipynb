{
  "nbformat": 4,
  "nbformat_minor": 0,
  "metadata": {
    "colab": {
      "provenance": [],
      "authorship_tag": "ABX9TyMtNJLFAXjwKee5A1J2yrC2",
      "include_colab_link": true
    },
    "kernelspec": {
      "name": "python3",
      "display_name": "Python 3"
    },
    "language_info": {
      "name": "python"
    }
  },
  "cells": [
    {
      "cell_type": "markdown",
      "metadata": {
        "id": "view-in-github",
        "colab_type": "text"
      },
      "source": [
        "<a href=\"https://colab.research.google.com/github/VictorCastroDeFaria/LinearProgramming/blob/main/ProblemasLista4.ipynb\" target=\"_parent\"><img src=\"https://colab.research.google.com/assets/colab-badge.svg\" alt=\"Open In Colab\"/></a>"
      ]
    },
    {
      "cell_type": "code",
      "execution_count": 29,
      "metadata": {
        "colab": {
          "base_uri": "https://localhost:8080/"
        },
        "id": "IAiNG3B2m-ud",
        "outputId": "300f569c-8167-4efc-cfad-733035574e07"
      },
      "outputs": [
        {
          "output_type": "stream",
          "name": "stdout",
          "text": [
            "Looking in indexes: https://pypi.org/simple, https://us-python.pkg.dev/colab-wheels/public/simple/\n",
            "Requirement already satisfied: pulp in /usr/local/lib/python3.7/dist-packages (2.6.0)\n"
          ]
        }
      ],
      "source": [
        "%pip install pulp\n",
        "\n",
        "import pulp\n",
        "from pulp import *"
      ]
    },
    {
      "cell_type": "code",
      "source": [
        "# Implementação do problema\n",
        "\n",
        "\n",
        "cuts_and_types = [[5, 2, 1, 0, 0, 0, 0, 0, 0, 1],\n",
        "                  [0, 0, 1, 2, 0, 0, 3, 1, 0, 0],\n",
        "                  [0, 0, 0, 2, 1, 0, 0, 0, 1, 0],\n",
        "                  [0, 1, 0, 0, 1, 0, 0, 1, 0, 1],\n",
        "                  [0, 0, 1, 0, 0, 1, 0, 0, 0, 0]]\n",
        "\n",
        "coils_demand = [18, 31, 25, 15, 14]\n",
        "\n",
        "cuts_amount = 10 # tipos de padrões de corte\n",
        "\n",
        "P = pulp.LpVariable.dicts('CuttingPattern', range(cuts_amount), lowBound = 0, cat = 'Integer')"
      ],
      "metadata": {
        "id": "jw7Nf-eYnNa2"
      },
      "execution_count": 30,
      "outputs": []
    },
    {
      "cell_type": "code",
      "source": [
        "# Verificação de viabilidade do problema\n",
        "\n",
        "problem = LpProblem(\"Problema da minimização de custos\", LpMinimize)\n",
        "\n",
        "problem += lpSum([P[j] for j in range(cuts_amount)])\n",
        "\n",
        "coils_amount = 5 # Tipos de bobinas\n",
        "\n",
        "for i in range(coils_amount):\n",
        "  problem += lpSum([P[j]*cuts_and_types[i][j] for j in range(cuts_amount)]) == coils_demand[i]\n",
        "\n",
        "problem.solve()\n",
        "\n",
        "print(\"Status:\", LpStatus[problem.status])\n",
        "\n",
        "print(\"objective = %s\" % value(problem.objective))\n",
        "\n",
        "for j in range(cuts_amount):\n",
        "  print(int(P[j].varValue),end = ' ')"
      ],
      "metadata": {
        "colab": {
          "base_uri": "https://localhost:8080/"
        },
        "id": "S_w4qCI8srus",
        "outputId": "a9509600-bec5-4796-c143-e3bae950f64c"
      },
      "execution_count": 31,
      "outputs": [
        {
          "output_type": "stream",
          "name": "stdout",
          "text": [
            "Status: Optimal\n",
            "objective = 37.0\n",
            "0 0 14 7 11 0 1 0 0 4 "
          ]
        },
        {
          "output_type": "stream",
          "name": "stderr",
          "text": [
            "/usr/local/lib/python3.7/dist-packages/pulp/pulp.py:1352: UserWarning: Spaces are not permitted in the name. Converted to '_'\n",
            "  warnings.warn(\"Spaces are not permitted in the name. Converted to '_'\")\n"
          ]
        }
      ]
    },
    {
      "cell_type": "code",
      "source": [
        "# Adaptação do problema para a possibilidade de estoque, com incorporação de custos\n",
        "\n",
        "Pb = pulp.LpVariable.dicts('CuttingPatternUsage', range(cuts_amount), lowBound = 0, cat = 'Binary')\n",
        "big_M = 10000\n",
        "\n",
        "problem2 = LpProblem(\"Problema da minimização de custos\", LpMinimize)\n",
        "\n",
        "problem2 += lpSum([0.25*P[j] for j in range(cuts_amount)]) + 3*lpSum([Pb[j] for j in range(cuts_amount)]) - 3\n",
        "\n",
        "coils_amount = 5 # Tipos de bobinas\n",
        "\n",
        "for i in range(coils_amount):\n",
        "  problem2 += lpSum([P[j]*cuts_and_types[i][j] for j in range(cuts_amount)]) >= coils_demand[i]\n",
        "\n",
        "for j in range(cuts_amount):\n",
        "  problem2 += P[j] <= big_M*Pb[j]\n",
        "\n",
        "problem2.solve()\n",
        "\n",
        "print(\"Status:\", LpStatus[problem2.status])\n",
        "\n",
        "print(\"objective = %s\" % value(problem2.objective))\n",
        "\n",
        "for j in range(cuts_amount):\n",
        "  print(int(P[j].varValue),end = ' ')\n",
        "print(' ')\n",
        "for j in range(cuts_amount):\n",
        "  print(int(Pb[j].varValue),end = ' ')"
      ],
      "metadata": {
        "colab": {
          "base_uri": "https://localhost:8080/"
        },
        "id": "3qSglprdpa45",
        "outputId": "1110f031-2019-47f6-cc2f-0b6121543b3f"
      },
      "execution_count": 34,
      "outputs": [
        {
          "output_type": "stream",
          "name": "stderr",
          "text": [
            "/usr/local/lib/python3.7/dist-packages/pulp/pulp.py:1352: UserWarning: Spaces are not permitted in the name. Converted to '_'\n",
            "  warnings.warn(\"Spaces are not permitted in the name. Converted to '_'\")\n"
          ]
        },
        {
          "output_type": "stream",
          "name": "stdout",
          "text": [
            "Status: Optimal\n",
            "objective = 16.0\n",
            "0 0 18 7 15 0 0 0 0 0  \n",
            "0 0 1 1 1 0 0 0 0 0 "
          ]
        }
      ]
    }
  ]
}