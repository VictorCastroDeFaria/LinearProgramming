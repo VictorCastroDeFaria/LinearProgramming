{
  "nbformat": 4,
  "nbformat_minor": 0,
  "metadata": {
    "colab": {
      "provenance": [],
      "collapsed_sections": [],
      "authorship_tag": "ABX9TyNtJAt+o1ZieskE7MnSbroL",
      "include_colab_link": true
    },
    "kernelspec": {
      "name": "python3",
      "display_name": "Python 3"
    },
    "language_info": {
      "name": "python"
    }
  },
  "cells": [
    {
      "cell_type": "markdown",
      "metadata": {
        "id": "view-in-github",
        "colab_type": "text"
      },
      "source": [
        "<a href=\"https://colab.research.google.com/github/VictorCastroDeFaria/LinearProgramming/blob/main/ProblemasLista4.ipynb\" target=\"_parent\"><img src=\"https://colab.research.google.com/assets/colab-badge.svg\" alt=\"Open In Colab\"/></a>"
      ]
    },
    {
      "cell_type": "code",
      "execution_count": 5,
      "metadata": {
        "colab": {
          "base_uri": "https://localhost:8080/"
        },
        "id": "IAiNG3B2m-ud",
        "outputId": "139917bb-9895-4b4f-8b83-4b5694c0e902"
      },
      "outputs": [
        {
          "output_type": "stream",
          "name": "stdout",
          "text": [
            "Looking in indexes: https://pypi.org/simple, https://us-python.pkg.dev/colab-wheels/public/simple/\n",
            "Requirement already satisfied: pulp in /usr/local/lib/python3.7/dist-packages (2.6.0)\n"
          ]
        }
      ],
      "source": [
        "%pip install pulp\n",
        "\n",
        "import pulp\n",
        "from pulp import *"
      ]
    },
    {
      "cell_type": "code",
      "source": [
        "# Implementação do problema\n",
        "\n",
        "\n",
        "cuts_and_types = [[5, 2, 1, 0, 0, 0, 0, 0, 0, 1],\n",
        "                  [0, 0, 1, 2, 0, 0, 3, 1, 0, 0],\n",
        "                  [0, 0, 0, 2, 1, 0, 0, 0, 1, 0],\n",
        "                  [0, 1, 0, 0, 1, 0, 0, 1, 0, 1],\n",
        "                  [0, 0, 1, 0, 0, 1, 0, 0, 0, 0]]\n",
        "\n",
        "coils_demand = [18, 31, 25, 15, 14]\n",
        "\n",
        "cuts_amount = 10 # tipos de padrões de corte\n",
        "\n",
        "P = pulp.LpVariable.dicts('CuttingPattern', range(cuts_amount), lowBound = 0, cat = 'Integer')"
      ],
      "metadata": {
        "id": "jw7Nf-eYnNa2"
      },
      "execution_count": 6,
      "outputs": []
    },
    {
      "cell_type": "code",
      "source": [
        "# Verificação de viabilidade do problema\n",
        "\n",
        "problem = LpProblem(\"Problema da minimização de custos\", LpMinimize)\n",
        "\n",
        "problem += lpSum([P[j] for j in range(cuts_amount)])\n",
        "\n",
        "coils_amount = 5 # Tipos de bobinas\n",
        "\n",
        "for i in range(coils_amount):\n",
        "  problem += lpSum([P[j]*cuts_and_types[i][j] for j in range(cuts_amount)]) == coils_demand[i]\n",
        "\n",
        "problem.solve()\n",
        "\n",
        "print(\"Status:\", LpStatus[problem.status])\n",
        "\n",
        "print(\"objective = %s\" % value(problem.objective))\n",
        "\n",
        "for j in range(cuts_amount):\n",
        "  print(int(P[j].varValue),end = ' ')"
      ],
      "metadata": {
        "colab": {
          "base_uri": "https://localhost:8080/"
        },
        "id": "S_w4qCI8srus",
        "outputId": "8bc89923-f500-4d8a-adee-ce369b81e22f"
      },
      "execution_count": 7,
      "outputs": [
        {
          "output_type": "stream",
          "name": "stdout",
          "text": [
            "Status: Optimal\n",
            "objective = 37.0\n",
            "0 0 14 7 11 0 1 0 0 4 "
          ]
        },
        {
          "output_type": "stream",
          "name": "stderr",
          "text": [
            "/usr/local/lib/python3.7/dist-packages/pulp/pulp.py:1352: UserWarning: Spaces are not permitted in the name. Converted to '_'\n",
            "  warnings.warn(\"Spaces are not permitted in the name. Converted to '_'\")\n"
          ]
        }
      ]
    },
    {
      "cell_type": "code",
      "source": [
        "# Adaptação do problema com incorporação de custos\n",
        "\n",
        "Pb = pulp.LpVariable.dicts('CuttingPatternUsage', range(cuts_amount), lowBound = 0, cat = 'Binary')\n",
        "big_M = 10000\n",
        "\n",
        "problem2 = LpProblem(\"Problema da minimização de custos\", LpMinimize)\n",
        "\n",
        "problem2 += lpSum([0.25*P[j] for j in range(cuts_amount)]) + 3*lpSum([Pb[j] for j in range(cuts_amount)])\n",
        "\n",
        "coils_amount = 5 # Tipos de bobinas\n",
        "\n",
        "for i in range(coils_amount):\n",
        "  problem2 += lpSum([P[j]*cuts_and_types[i][j] for j in range(cuts_amount)]) == coils_demand[i]\n",
        "\n",
        "for j in range(cuts_amount):\n",
        "  problem2 += P[j] <= big_M*Pb[j]\n",
        "\n",
        "problem2.solve()\n",
        "\n",
        "print(\"Status:\", LpStatus[problem2.status])\n",
        "\n",
        "print(\"objective = %s\" % value(problem2.objective))\n",
        "\n",
        "for j in range(cuts_amount):\n",
        "  print(int(P[j].varValue),end = ' ')\n",
        "print(' ')\n",
        "for j in range(cuts_amount):\n",
        "  print(int(Pb[j].varValue),end = ' ')"
      ],
      "metadata": {
        "colab": {
          "base_uri": "https://localhost:8080/"
        },
        "id": "m3it7FaVhJzy",
        "outputId": "7a92d46b-bdfc-4c32-9f2d-9fba346137f5"
      },
      "execution_count": 8,
      "outputs": [
        {
          "output_type": "stream",
          "name": "stdout",
          "text": [
            "Status: Optimal\n",
            "objective = 24.25\n",
            "0 0 14 7 11 0 1 0 0 4  \n",
            "0 0 1 1 1 0 1 0 0 1 "
          ]
        }
      ]
    },
    {
      "cell_type": "code",
      "source": [
        "# Adaptação do problema para a possibilidade de estoque, com incorporação de custos\n",
        "\n",
        "Pb = pulp.LpVariable.dicts('CuttingPatternUsage', range(cuts_amount), lowBound = 0, cat = 'Binary')\n",
        "big_M = 10000\n",
        "\n",
        "problem3 = LpProblem(\"Problema da minimização de custos\", LpMinimize)\n",
        "\n",
        "problem3 += lpSum([0.25*P[j] for j in range(cuts_amount)]) + 3*lpSum([Pb[j] for j in range(cuts_amount)])\n",
        "\n",
        "coils_amount = 5 # Tipos de bobinas\n",
        "\n",
        "for i in range(coils_amount):\n",
        "  problem3 += lpSum([P[j]*cuts_and_types[i][j] for j in range(cuts_amount)]) >= coils_demand[i]\n",
        "\n",
        "for j in range(cuts_amount):\n",
        "  problem3 += P[j] <= big_M*Pb[j]\n",
        "\n",
        "problem3.solve()\n",
        "\n",
        "print(\"Status:\", LpStatus[problem3.status])\n",
        "\n",
        "print(\"objective = %s\" % value(problem3.objective))\n",
        "\n",
        "for j in range(cuts_amount):\n",
        "  print(int(P[j].varValue),end = ' ')\n",
        "print(' ')\n",
        "for j in range(cuts_amount):\n",
        "  print(int(Pb[j].varValue),end = ' ')"
      ],
      "metadata": {
        "colab": {
          "base_uri": "https://localhost:8080/"
        },
        "id": "3qSglprdpa45",
        "outputId": "a6740275-44be-4068-9c3e-1aecc2f17b57"
      },
      "execution_count": 9,
      "outputs": [
        {
          "output_type": "stream",
          "name": "stdout",
          "text": [
            "Status: Optimal\n",
            "objective = 19.0\n",
            "0 0 18 7 15 0 0 0 0 0  \n",
            "0 0 1 1 1 0 0 0 0 0 "
          ]
        }
      ]
    }
  ]
}